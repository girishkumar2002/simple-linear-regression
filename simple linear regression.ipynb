{
 "cells": [
  {
   "cell_type": "code",
   "execution_count": null,
   "id": "3c8107ea-9e5b-4238-bb14-91b1fbc10e70",
   "metadata": {},
   "outputs": [],
   "source": [
    "perience\tSalary\n",
    "0\t1.2\t39344.0\n",
    "1\t1.4\t46206.0\n",
    "2\t1.6\t37732.0\n",
    "3\t2.1\t43526.0\n",
    "4\t2.3\t39892.0\n"
   ]
  },
  {
   "cell_type": "code",
   "execution_count": 1,
   "id": "c756f1dc-839e-4688-b655-d86ad2b0ae8e",
   "metadata": {},
   "outputs": [
    {
     "data": {
      "text/html": [
       "<div>\n",
       "<style scoped>\n",
       "    .dataframe tbody tr th:only-of-type {\n",
       "        vertical-align: middle;\n",
       "    }\n",
       "\n",
       "    .dataframe tbody tr th {\n",
       "        vertical-align: top;\n",
       "    }\n",
       "\n",
       "    .dataframe thead th {\n",
       "        text-align: right;\n",
       "    }\n",
       "</style>\n",
       "<table border=\"1\" class=\"dataframe\">\n",
       "  <thead>\n",
       "    <tr style=\"text-align: right;\">\n",
       "      <th></th>\n",
       "      <th>YearsExperience</th>\n",
       "      <th>Salary</th>\n",
       "    </tr>\n",
       "  </thead>\n",
       "  <tbody>\n",
       "    <tr>\n",
       "      <th>0</th>\n",
       "      <td>1.2</td>\n",
       "      <td>39344.0</td>\n",
       "    </tr>\n",
       "    <tr>\n",
       "      <th>1</th>\n",
       "      <td>1.4</td>\n",
       "      <td>46206.0</td>\n",
       "    </tr>\n",
       "    <tr>\n",
       "      <th>2</th>\n",
       "      <td>1.6</td>\n",
       "      <td>37732.0</td>\n",
       "    </tr>\n",
       "    <tr>\n",
       "      <th>3</th>\n",
       "      <td>2.1</td>\n",
       "      <td>43526.0</td>\n",
       "    </tr>\n",
       "    <tr>\n",
       "      <th>4</th>\n",
       "      <td>2.3</td>\n",
       "      <td>39892.0</td>\n",
       "    </tr>\n",
       "  </tbody>\n",
       "</table>\n",
       "</div>"
      ],
      "text/plain": [
       "   YearsExperience   Salary\n",
       "0              1.2  39344.0\n",
       "1              1.4  46206.0\n",
       "2              1.6  37732.0\n",
       "3              2.1  43526.0\n",
       "4              2.3  39892.0"
      ]
     },
     "execution_count": 1,
     "metadata": {},
     "output_type": "execute_result"
    }
   ],
   "source": [
    "\n",
    "import numpy as np\n",
    "import pandas as pd\n",
    "import matplotlib.pyplot as plt\n",
    "df = pd.read_csv('https://raw.githubusercontent.com/bipulshahi/Dataset/main/Salary_dataset.csv', index_col = 0)\n",
    "df.head()"
   ]
  },
  {
   "cell_type": "code",
   "execution_count": 2,
   "id": "e9862b00-e4ff-4b2d-a1c8-ff48e5da9374",
   "metadata": {},
   "outputs": [],
   "source": [
    "x= df['YearsExperience']\n",
    "y= df['Salary']"
   ]
  },
  {
   "cell_type": "code",
   "execution_count": 3,
   "id": "1d0afe04-bd01-4d79-944d-c46ed677e30a",
   "metadata": {},
   "outputs": [
    {
     "name": "stdout",
     "output_type": "stream",
     "text": [
      "9449.962321455076\n",
      "24848.2039665232\n"
     ]
    }
   ],
   "source": [
    "n1 = ((x - x.mean()) * (y - y.mean())).sum()\n",
    "d1 = ((x - x.mean())**2).sum()\n",
    "\n",
    "m = n1/d1\n",
    "print(m)\n",
    "\n",
    "#intercept of best fit line\n",
    "c = y.mean() - m * x.mean()\n",
    "print(c)"
   ]
  },
  {
   "cell_type": "code",
   "execution_count": 4,
   "id": "5f6d14bd-f387-48bd-9f7a-b08c649414cb",
   "metadata": {},
   "outputs": [
    {
     "name": "stdout",
     "output_type": "stream",
     "text": [
      "0      36188.158752\n",
      "1      38078.151217\n",
      "2      39968.143681\n",
      "3      44693.124842\n",
      "4      46583.117306\n",
      "5      53198.090931\n",
      "6      54143.087163\n",
      "7      56033.079627\n",
      "8      56033.079627\n",
      "9      60758.060788\n",
      "10     62648.053252\n",
      "11     63593.049484\n",
      "12     63593.049484\n",
      "13     64538.045717\n",
      "14     68318.030645\n",
      "15     72098.015574\n",
      "16     73988.008038\n",
      "17     75878.000502\n",
      "18     81547.977895\n",
      "19     82492.974127\n",
      "20     90052.943985\n",
      "21     92887.932681\n",
      "22    100447.902538\n",
      "23    103282.891235\n",
      "24    108007.872395\n",
      "25    110842.861092\n",
      "26    115567.842252\n",
      "27    116512.838485\n",
      "28    123127.812110\n",
      "29    125017.804574\n",
      "Name: YearsExperience, dtype: float64\n"
     ]
    }
   ],
   "source": [
    "yh = m * x + c\n",
    "print(yh)"
   ]
  },
  {
   "cell_type": "code",
   "execution_count": 5,
   "id": "995a64a1-bc2c-45a6-920a-40f3c6ba5c7f",
   "metadata": {},
   "outputs": [
    {
     "data": {
      "image/png": "[encoded data removed]",
      "text/plain": [
       "<Figure size 640x480 with 1 Axes>"
      ]
     },
     "metadata": {},
     "output_type": "display_data"
    }
   ],
   "source": [
    "yh = m * x + c\n",
    "\n",
    "plt.scatter(x,y)\n",
    "\n",
    "plt.plot(x,yh,color='r')\n",
    "\n",
    "plt.show()"
   ]
  },
  {
   "cell_type": "code",
   "execution_count": 7,
   "id": "5afa5ed2-e493-4687-a57a-88e9be84684c",
   "metadata": {},
   "outputs": [
    {
     "name": "stdout",
     "output_type": "stream",
     "text": [
      "108952.86862747338\n"
     ]
    }
   ],
   "source": [
    "sales = m * 8.9 + c\n",
    "print(sales)"
   ]
  },
  {
   "cell_type": "code",
   "execution_count": 8,
   "id": "f7175cec-6fbf-4d8a-a64f-3b6dc3cf7edf",
   "metadata": {},
   "outputs": [
    {
     "name": "stdout",
     "output_type": "stream",
     "text": [
      "4644.201289443536\n"
     ]
    }
   ],
   "source": [
    "\n",
    "mae = (abs(y - yh)).mean()\n",
    "print(mae)"
   ]
  },
  {
   "cell_type": "code",
   "execution_count": 24,
   "id": "ff483279-c74e-44b6-b2dd-07b209c4e70e",
   "metadata": {},
   "outputs": [
    {
     "name": "stdout",
     "output_type": "stream",
     "text": [
      "Requirement already satisfied: scikit-learn in c:\\users\\gk154\\appdata\\local\\programs\\python\\python311\\lib\\site-packages (1.5.0)\n",
      "Requirement already satisfied: numpy>=1.19.5 in c:\\users\\gk154\\appdata\\local\\programs\\python\\python311\\lib\\site-packages (from scikit-learn) (1.26.4)\n",
      "Requirement already satisfied: scipy>=1.6.0 in c:\\users\\gk154\\appdata\\local\\programs\\python\\python311\\lib\\site-packages (from scikit-learn) (1.13.1)\n",
      "Requirement already satisfied: joblib>=1.2.0 in c:\\users\\gk154\\appdata\\local\\programs\\python\\python311\\lib\\site-packages (from scikit-learn) (1.4.2)\n",
      "Requirement already satisfied: threadpoolctl>=3.1.0 in c:\\users\\gk154\\appdata\\local\\programs\\python\\python311\\lib\\site-packages (from scikit-learn) (3.5.0)\n"
     ]
    }
   ],
   "source": [
    "!pip3 install scikit-learn"
   ]
  },
  {
   "cell_type": "code",
   "execution_count": 25,
   "id": "2559d373-e34d-4f2b-8243-bb19065c3cde",
   "metadata": {},
   "outputs": [
    {
     "name": "stdout",
     "output_type": "stream",
     "text": [
      "coef or slope [[9763.46970947]]\n",
      "intercept [22634.93519465]\n"
     ]
    }
   ],
   "source": [
    "X = df[['YearsExperience']]\n",
    "Y = df[['Salary']]\n",
    "\n",
    "#Split the data i.e. X and Y into train and test\n",
    "from sklearn.model_selection import train_test_split\n",
    "xtrain,xtest,ytrain,ytest = train_test_split(X,Y,train_size=0.75)\n",
    "\n",
    "#import library to train\n",
    "from sklearn.linear_model import LinearRegression\n",
    "model1 = LinearRegression()\n",
    "\n",
    "#Fit x and y to train\n",
    "model1.fit(xtrain,ytrain)\n",
    "\n",
    "#Print the training coefficients and intercepts\n",
    "print(\"coef or slope\" , model1.coef_)\n",
    "print(\"intercept\" , model1.intercept_)"
   ]
  },
  {
   "cell_type": "code",
   "execution_count": 26,
   "id": "fcde9d42-6f5d-4f4d-a0f4-ae693e5dc7dc",
   "metadata": {},
   "outputs": [
    {
     "name": "stdout",
     "output_type": "stream",
     "text": [
      "Mean absolute error(Train) Salary    4832.13361\n",
      "dtype: float64\n",
      "Mean absolute error(Test) Salary    4092.123006\n",
      "dtype: float64\n"
     ]
    }
   ],
   "source": [
    "#check model performance on train data and test data\n",
    "\n",
    "#prediction on data used for training or data used for training\n",
    "ytrainPred = model1.predict(xtrain)\n",
    "\n",
    "#prediction on data not used for training or test data\n",
    "ytestPred = model1.predict(xtest)\n",
    "\n",
    "#difference between real salary and predicted salary\n",
    "\n",
    "mae_training = abs(ytrain - ytrainPred).mean()\n",
    "mae_test = abs(ytest - ytestPred).mean()\n",
    "\n",
    "print(\"Mean absolute error(Train)\" , mae_training)\n",
    "print(\"Mean absolute error(Test)\" , mae_test)"
   ]
  },
  {
   "cell_type": "code",
   "execution_count": 27,
   "id": "5cda79f7-6e1f-4eb7-a4f1-a3917c0fa3dc",
   "metadata": {},
   "outputs": [
    {
     "name": "stdout",
     "output_type": "stream",
     "text": [
      "[[112458.85652179]]\n"
     ]
    },
    {
     "name": "stderr",
     "output_type": "stream",
     "text": [
      "C:\\Users\\gk154\\AppData\\Local\\Programs\\Python\\Python311\\Lib\\site-packages\\sklearn\\base.py:493: UserWarning: X does not have valid feature names, but LinearRegression was fitted with feature names\n",
      "  warnings.warn(\n"
     ]
    }
   ],
   "source": [
    "#Predict the salary for yoe = 9.2\n",
    "\n",
    "print(model1.predict([[9.2]]))"
   ]
  },
  {
   "cell_type": "code",
   "execution_count": 37,
   "id": "e52830ac-f892-42ce-b265-43a4fb425e0c",
   "metadata": {},
   "outputs": [
    {
     "data": {
      "text/html": [
       "<div>\n",
       "<style scoped>\n",
       "    .dataframe tbody tr th:only-of-type {\n",
       "        vertical-align: middle;\n",
       "    }\n",
       "\n",
       "    .dataframe tbody tr th {\n",
       "        vertical-align: top;\n",
       "    }\n",
       "\n",
       "    .dataframe thead th {\n",
       "        text-align: right;\n",
       "    }\n",
       "</style>\n",
       "<table border=\"1\" class=\"dataframe\">\n",
       "  <thead>\n",
       "    <tr style=\"text-align: right;\">\n",
       "      <th></th>\n",
       "      <th>TV</th>\n",
       "      <th>radio</th>\n",
       "      <th>newspaper</th>\n",
       "      <th>sales</th>\n",
       "    </tr>\n",
       "  </thead>\n",
       "  <tbody>\n",
       "    <tr>\n",
       "      <th>1</th>\n",
       "      <td>230.1</td>\n",
       "      <td>37.8</td>\n",
       "      <td>69.2</td>\n",
       "      <td>22.1</td>\n",
       "    </tr>\n",
       "    <tr>\n",
       "      <th>2</th>\n",
       "      <td>44.5</td>\n",
       "      <td>39.3</td>\n",
       "      <td>45.1</td>\n",
       "      <td>10.4</td>\n",
       "    </tr>\n",
       "    <tr>\n",
       "      <th>3</th>\n",
       "      <td>17.2</td>\n",
       "      <td>45.9</td>\n",
       "      <td>69.3</td>\n",
       "      <td>9.3</td>\n",
       "    </tr>\n",
       "    <tr>\n",
       "      <th>4</th>\n",
       "      <td>151.5</td>\n",
       "      <td>41.3</td>\n",
       "      <td>58.5</td>\n",
       "      <td>18.5</td>\n",
       "    </tr>\n",
       "    <tr>\n",
       "      <th>5</th>\n",
       "      <td>180.8</td>\n",
       "      <td>10.8</td>\n",
       "      <td>58.4</td>\n",
       "      <td>12.9</td>\n",
       "    </tr>\n",
       "  </tbody>\n",
       "</table>\n",
       "</div>"
      ],
      "text/plain": [
       "      TV  radio  newspaper  sales\n",
       "1  230.1   37.8       69.2   22.1\n",
       "2   44.5   39.3       45.1   10.4\n",
       "3   17.2   45.9       69.3    9.3\n",
       "4  151.5   41.3       58.5   18.5\n",
       "5  180.8   10.8       58.4   12.9"
      ]
     },
     "execution_count": 37,
     "metadata": {},
     "output_type": "execute_result"
    }
   ],
   "source": [
    "import matplotlib.pyplot as plt\n",
    "import pandas as pd\n",
    "\n",
    "df = pd.read_csv('https://raw.githubusercontent.com/bipulshahi/Dataset/main/Advertising.csv',\n",
    "                 index_col = 0)\n",
    "\n",
    "df.head()"
   ]
  },
  {
   "cell_type": "code",
   "execution_count": 38,
   "id": "a30c6174-2220-4fb1-8fd7-b91a1e978124",
   "metadata": {},
   "outputs": [],
   "source": [
    "x=df['TV']\n",
    "y=df['sales']"
   ]
  },
  {
   "cell_type": "code",
   "execution_count": 39,
   "id": "ac71c7e7-3bf1-4045-942d-4ef288fbed8d",
   "metadata": {},
   "outputs": [
    {
     "data": {
      "image/png": "[encoded data removed]",
      "text/plain": [
       "<Figure size 640x480 with 1 Axes>"
      ]
     },
     "metadata": {},
     "output_type": "display_data"
    }
   ],
   "source": [
    "plt.scatter(x,y)\n",
    "plt.show()\n"
   ]
  },
  {
   "cell_type": "code",
   "execution_count": 35,
   "id": "e814d3f2-70b4-4ade-b5ae-0065668f243b",
   "metadata": {},
   "outputs": [
    {
     "name": "stdout",
     "output_type": "stream",
     "text": [
      "Salary             NaN\n",
      "YearsExperience    0.0\n",
      "dtype: float64\n",
      "\n",
      "Salary            NaN\n",
      "YearsExperience   NaN\n",
      "dtype: float64\n"
     ]
    }
   ],
   "source": [
    "n1 = ((X - X.mean())*(Y - Y.mean())).sum()\n",
    "d1 = ((X - X.mean())**2).sum()\n",
    "\n",
    "m = n1/d1\n",
    "print(m)\n",
    "\n",
    "print()\n",
    "\n",
    "c = Y.mean() - m * X.mean()\n",
    "print(c)"
   ]
  },
  {
   "cell_type": "code",
   "execution_count": 7,
   "id": "17ce4861-a301-402b-8243-cbf36a3df7ae",
   "metadata": {},
   "outputs": [
    {
     "data": {
      "image/png": "[encoded data removed]",
      "text/plain": [
       "<Figure size 640x480 with 1 Axes>"
      ]
     },
     "metadata": {},
     "output_type": "display_data"
    }
   ],
   "source": [
    "Yh = m * x + c\n",
    "\n",
    "plt.scatter(x,y)\n",
    "\n",
    "plt.plot(x,yh,color='r')\n",
    "\n",
    "plt.show()"
   ]
  },
  {
   "cell_type": "code",
   "execution_count": null,
   "id": "1086d817-780f-4ea2-b88f-9e31df4ad520",
   "metadata": {},
   "outputs": [],
   "source": []
  }
 ],
 "metadata": {
  "kernelspec": {
   "display_name": "Python 3 (ipykernel)",
   "language": "python",
   "name": "python3"
  },
  "language_info": {
   "codemirror_mode": {
    "name": "ipython",
    "version": 3
   },
   "file_extension": ".py",
   "mimetype": "text/x-python",
   "name": "python",
   "nbconvert_exporter": "python",
   "pygments_lexer": "ipython3",
   "version": "3.11.8"
  }
 },
 "nbformat": 4,
 "nbformat_minor": 5
}
